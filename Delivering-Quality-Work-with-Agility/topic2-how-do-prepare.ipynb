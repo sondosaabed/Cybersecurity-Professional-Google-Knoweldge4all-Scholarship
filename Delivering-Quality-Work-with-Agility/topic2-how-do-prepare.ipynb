{
 "cells": [
  {
   "cell_type": "markdown",
   "metadata": {},
   "source": [
    "- To have clarity about the outcome.\n",
    "\n",
    "**I keep sic honset serving-men (they taught me all I knew). Their names are What and WHy and When and How and Where and WHo.**\n",
    "- Rudyrad Kipling\n",
    "\n",
    "- What doe sthe requester wants to accomplish\n",
    "- What should the assignmnets output be"
   ]
  },
  {
   "cell_type": "markdown",
   "metadata": {},
   "source": [
    "## What could stop you from understanding your assignment\n",
    "These are just a few of the factors that can work against your understanding of an assignment.\n",
    "- Poor communication\n",
    "- Asking teh wrong questions.\n",
    "- Lack of understanding.\n",
    "- Lack of facts and resources.\n",
    "- Not getting to the root cause or real bottom-line requiremnt."
   ]
  },
  {
   "cell_type": "markdown",
   "metadata": {},
   "source": [
    "## What happens when you don’t ask questions?\n",
    "![image](https://github.com/sondosaabed/Cybersecurity-Professional-Knoweldge4all-Scholarship/assets/65151701/92679cbb-debb-4ca9-9c8b-190038e4aa53)"
   ]
  },
  {
   "cell_type": "markdown",
   "metadata": {},
   "source": [
    "## What stops you from asking questions?\n",
    "Here are a few factors that can prevent you from asking questions. How can you overcome them?\n",
    "- The assignment is confusing, but I don’t want to admit that I am confused.\n",
    "- My clients are difficult to reach.\n",
    "- I am wary of the due date.\n",
    "- My clients might not know what they really want.\n",
    "- I am uncomfortable asking questions."
   ]
  },
  {
   "cell_type": "markdown",
   "metadata": {},
   "source": [
    "## What are you going to do to overcome these challenges?\n",
    "Don’t be afraid to ask questions even if they seem silly. That’s the only way you’ll get the information you need. Ask all your questions instead of fixing big mistakes later.\n",
    "- Prepare clarifying questions to help the client.\n",
    "- Set up a meeting with the client to discuss.\n",
    "- Dig deeper and ask follow-up questions if you still have doubts."
   ]
  },
  {
   "cell_type": "markdown",
   "metadata": {},
   "source": [
    "## Here are a few questions that you can ask\n",
    "Here’s a list of questions that can help you better understand an assignment. Keep in mind that these are all “background questions.” You’re asking for as much information as possible about the assignment, not the solution.\n",
    "\n",
    "1. What is the client asking for? What is the client’s objective? How can I explain this request in my own words?\n",
    "2. Why is the client asking for this?\n",
    "3. Who are the other stakeholders?\n",
    "4. Should I be the one doing this?\n",
    "5. By when is this needed?\n",
    "6. What materials, resources, access, and other things will I need to complete this assignment?\n",
    "\n",
    "Now that you really understand the assignment, you can start building a preliminary action plan."
   ]
  },
  {
   "cell_type": "markdown",
   "metadata": {},
   "source": [
    "## Build a preliminary action plan\n",
    "Get information about the:\n",
    "- Due date\n",
    "- Key playes\n",
    "- key milestones\n",
    "- Contacts and resources\n",
    "\n",
    "it's diffrent than the action plan, it is teh steps taken to deliver high quality deliverables. And you nee dit at the later of the five steps process."
   ]
  },
  {
   "cell_type": "markdown",
   "metadata": {},
   "source": [
    "## Developing a preliminary action plan\n",
    "\n",
    "Example\n",
    "![Q1LKk9m1TSOSypPZtQ0jBg_fc00079f3efb457f94067ff0c553b0a1_13](https://github.com/sondosaabed/Cybersecurity-Professional-Knoweldge4all-Scholarship/assets/65151701/b7252e67-8a78-4a18-a1e5-0474c94bf00f)"
   ]
  }
 ],
 "metadata": {
  "language_info": {
   "name": "python"
  }
 },
 "nbformat": 4,
 "nbformat_minor": 2
}
