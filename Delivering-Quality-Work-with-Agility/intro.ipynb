{
 "cells": [
  {
   "cell_type": "markdown",
   "metadata": {},
   "source": [
    "## Deliver Quality Work\n",
    "![image](https://github.com/sondosaabed/Cybersecurity-Professional-Knoweldge4all-Scholarship/assets/65151701/3c0cb2b1-d842-46d9-a8c5-3445f095a8c8)"
   ]
  },
  {
   "cell_type": "markdown",
   "metadata": {},
   "source": [
    "## How can you apply the agility principles at work?\n",
    "\n",
    "There are three agility principles: \n",
    "1. envisioning an outcome, \n",
    "2. iterating, \n",
    "3. self-direction."
   ]
  },
  {
   "cell_type": "markdown",
   "metadata": {},
   "source": [
    "## What behaviors can you demonstrate to embody these principles?\n",
    "\n",
    "1. How might you envision an outcome? By focusing on the customer or business value.\n",
    "2. How can you demonstrate being iterative? By being flexible and adaptive, and aiming for continuous improvement.\n",
    "3. How can teams practice self-direction? Through teamwork and collaboration, and by being self-managed."
   ]
  },
  {
   "cell_type": "markdown",
   "metadata": {},
   "source": [
    "![image](https://github.com/sondosaabed/Cybersecurity-Professional-Knoweldge4all-Scholarship/assets/65151701/d81f30c3-6bfe-4411-a545-a3ab153063c0)"
   ]
  }
 ],
 "metadata": {
  "language_info": {
   "name": "python"
  }
 },
 "nbformat": 4,
 "nbformat_minor": 2
}
