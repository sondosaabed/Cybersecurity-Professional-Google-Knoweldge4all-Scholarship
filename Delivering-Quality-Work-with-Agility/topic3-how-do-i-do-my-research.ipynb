{
 "cells": [
  {
   "cell_type": "markdown",
   "metadata": {},
   "source": [
    "collect all the information you require to complete your assignment. Collecting information involves\n",
    "its fair share of challenges. However, if you approach common questions such as what, or how much information to collect, what to do with the information and so on; with agility, you can overcome this challenge. \n",
    "\n",
    "**one sees great things from the valley, onlt small things from the peak.**\n",
    "- G.K. Chesterton"
   ]
  }
 ],
 "metadata": {
  "language_info": {
   "name": "python"
  }
 },
 "nbformat": 4,
 "nbformat_minor": 2
}
