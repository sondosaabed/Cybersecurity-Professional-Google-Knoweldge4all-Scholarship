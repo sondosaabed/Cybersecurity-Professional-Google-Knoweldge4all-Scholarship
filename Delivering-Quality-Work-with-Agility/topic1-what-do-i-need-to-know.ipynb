{
 "cells": [
  {
   "cell_type": "markdown",
   "metadata": {},
   "source": [
    "\n",
    "- Not satisfactory but also high quality delivery.\n",
    "- Provceed by thought and planning\n",
    "\n",
    "**Writing is an exploration. You start from nothing and learn as you go**\n",
    "- E.L. Doctorow\n",
    "\n",
    "Before abything (in the assigned work)\n",
    "- Identify the landscape in which you're working.\n",
    "- Develop a path through that landscape"
   ]
  },
  {
   "cell_type": "markdown",
   "metadata": {},
   "source": [
    "## Elements of work landscape\n",
    "There are three elements that make up your work landscape. Let’s explore them.\n",
    "- **Who are your clients?**\n",
    "    - Clients need not be only people higher than you in the organization.\n",
    "    - You could get work requests not only from managers, executives, leads, and project managers, but also from teammates and colleagues.\n",
    "- **How do you receive assignments from your clients?**\n",
    "    - Clients can share assignments in multiple ways, such as over email, text, phone, messaging platforms, and other collaboration tools.\n",
    "    - Assignments are sometimes unstated but expected.\n",
    "- **How do you know when an assignment is complete?**\n",
    "    - Your client does not have to do additional work on the assignment you submit.\n",
    "    - It should include all the information that your client has requested for."
   ]
  },
  {
   "cell_type": "markdown",
   "metadata": {},
   "source": [
    "- Approach each requets with thoutfullness and didication.\n",
    "- Treat all requests uniformly.\n",
    "- A request from a peer deseves the same as the request from the manager."
   ]
  },
  {
   "cell_type": "markdown",
   "metadata": {},
   "source": [
    "## five-step process to deliver quality work\n",
    "\n",
    "![9KTK2PAOSlqkytjwDhpahA_5116ff0d1df042838241c8ffe25e67a1_DQW_Slide_10](https://github.com/sondosaabed/Cybersecurity-Professional-Knoweldge4all-Scholarship/assets/65151701/1f7c889f-8589-4368-832f-bef23d206aeb)\n",
    "\n",
    "1. **Do your prep.**\n",
    "    - Understand the territory.\n",
    "    - Prepare for your journey.\n",
    "    - Create a preliminary action plan.\n",
    "2. **Do your research.**\n",
    "    - Collect and analyze information.\n",
    "3. **Decide what to do.**\n",
    "    - Identify multiple solutions.\n",
    "    - Evaluate each potential solution.\n",
    "    - Decide which solution to follow.\n",
    "4. **Do it.**\n",
    "    - Organize and review your ideas.\n",
    "    - Test your work.\n",
    "    - Iterate and adapt to different solutions.\n",
    "5. **Deliver it.**\n",
    "    - Deliver to the client.\n",
    "    - Ensure satisfaction."
   ]
  }
 ],
 "metadata": {
  "language_info": {
   "name": "python"
  }
 },
 "nbformat": 4,
 "nbformat_minor": 2
}
